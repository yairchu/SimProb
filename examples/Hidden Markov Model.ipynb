{
 "cells": [
  {
   "cell_type": "markdown",
   "metadata": {},
   "source": [
    "# Hidden Markov Model Knight's Tour example\n",
    "\n",
    "A Knight went for a Tour on the chess board.\n",
    "\n",
    "A drunk reporter wrote down the knight's positions, and we trust each report as having a 50% of being random.\n",
    "Can we infer where the knight has been?"
   ]
  },
  {
   "cell_type": "code",
   "execution_count": null,
   "metadata": {},
   "outputs": [],
   "source": [
    "%pip install matplotlib numpy"
   ]
  },
  {
   "cell_type": "code",
   "execution_count": null,
   "metadata": {},
   "outputs": [],
   "source": [
    "import itertools\n",
    "import matplotlib.pyplot as plt\n",
    "import numpy as np\n",
    "import os\n",
    "import random\n",
    "import sys\n",
    "\n",
    "sys.path.append(os.path.abspath(\"..\"))"
   ]
  },
  {
   "cell_type": "code",
   "execution_count": null,
   "metadata": {},
   "outputs": [],
   "source": [
    "import knight_tour\n",
    "\n",
    "path = list(itertools.islice(knight_tour.random_knight_path(), 12))\n",
    "\n",
    "reported_path = [random.choice([pos, knight_tour.random_position()]) for pos in path]\n",
    "\n",
    "plt.axis(\"equal\")\n",
    "plt.plot(*zip(*path), \".-\", label=\"Actual knight tour\")\n",
    "plt.plot(*zip(*reported_path), \".-\", label=\"Reported knight tour\", alpha=0.5)\n",
    "_ = plt.legend()"
   ]
  },
  {
   "cell_type": "markdown",
   "metadata": {},
   "source": [
    "## Inference using SimProb"
   ]
  },
  {
   "cell_type": "code",
   "execution_count": null,
   "metadata": {},
   "outputs": [],
   "source": [
    "import simprob\n",
    "import simprob.smoothing as smoothing\n",
    "import simprob.hidden_markov as hmm\n",
    "\n",
    "\n",
    "def reported_path_probabilites(pos):\n",
    "    \"\"\"\n",
    "    Position reported by drunk reporter has 50% chance of being random,\n",
    "    and 50% of being accurate.\n",
    "\n",
    "    This function computes the resulting probability distribution.\n",
    "    \"\"\"\n",
    "    res = np.ones(knight_tour.BOARD_SHAPE)\n",
    "    res[pos[::-1]] += res.sum()\n",
    "    return hmm.Histogram(res)\n",
    "\n",
    "\n",
    "inferred = np.asarray(\n",
    "    list(\n",
    "        smoothing.forward_backward(\n",
    "            reported_path_probabilites(reported_path[0]),\n",
    "            [\n",
    "                simprob.Iteration(\n",
    "                    transition=hmm.ConvolutionTransition(\n",
    "                        knight_tour.knight_moves_kernel\n",
    "                    ),\n",
    "                    observation=reported_path_probabilites(o),\n",
    "                )\n",
    "                for o in reported_path[1:]\n",
    "            ],\n",
    "            hmm.Histogram.empty(knight_tour.BOARD_SHAPE),\n",
    "        )\n",
    "    )\n",
    ")\n",
    "\n",
    "print(\"Inference of knight's possible positions from observations\")\n",
    "for h, (real_x, real_y), (rep_x, rep_y) in zip(inferred, path, reported_path):\n",
    "    plt.figure(figsize=(2, 2))\n",
    "    plt.imshow(h.probs)\n",
    "    plt.colorbar()\n",
    "    plt.scatter([real_x], [real_y], color=\"white\")\n",
    "    plt.scatter([rep_x], [rep_y], marker=\"x\", color=\"red\")\n",
    "    plt.show()"
   ]
  },
  {
   "cell_type": "code",
   "execution_count": null,
   "metadata": {},
   "outputs": [],
   "source": []
  }
 ],
 "metadata": {
  "kernelspec": {
   "display_name": ".venv",
   "language": "python",
   "name": "python3"
  },
  "language_info": {
   "codemirror_mode": {
    "name": "ipython",
    "version": 3
   },
   "file_extension": ".py",
   "mimetype": "text/x-python",
   "name": "python",
   "nbconvert_exporter": "python",
   "pygments_lexer": "ipython3",
   "version": "3.13.1"
  }
 },
 "nbformat": 4,
 "nbformat_minor": 2
}
