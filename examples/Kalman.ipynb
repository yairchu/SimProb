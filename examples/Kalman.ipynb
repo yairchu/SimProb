{
 "cells": [
  {
   "cell_type": "code",
   "execution_count": null,
   "metadata": {},
   "outputs": [],
   "source": [
    "%pip install matplotlib numpy scipy"
   ]
  },
  {
   "cell_type": "code",
   "execution_count": null,
   "metadata": {},
   "outputs": [],
   "source": [
    "import matplotlib.pyplot as plt\n",
    "import numpy as np\n",
    "import os\n",
    "import scipy\n",
    "import sys\n",
    "\n",
    "sys.path.append(os.path.abspath(\"..\"))"
   ]
  },
  {
   "cell_type": "code",
   "execution_count": null,
   "metadata": {},
   "outputs": [],
   "source": [
    "accel_std = 0.03\n",
    "velocity = np.cumsum(accel_std * np.random.normal(size=80))\n",
    "position = np.cumsum(velocity)\n",
    "position -= np.mean(position)\n",
    "noise_std = 0.5\n",
    "observations = position + noise_std * np.random.normal(size=len(position))\n",
    "\n",
    "\n",
    "def plot_measures():\n",
    "    plt.plot(position, label=\"Path\")\n",
    "    plt.scatter(np.arange(len(position)), observations, label=\"Noisy path observations\")\n",
    "\n",
    "\n",
    "plot_measures()\n",
    "_ = plt.legend()"
   ]
  },
  {
   "cell_type": "code",
   "execution_count": null,
   "metadata": {},
   "outputs": [],
   "source": [
    "import simprob\n",
    "import simprob.kalman as kalman\n",
    "\n",
    "dims = 2\n",
    "\n",
    "init_state = kalman.MultivariateNormal(\n",
    "    mean=np.zeros(dims),\n",
    "    covar=1e12 * np.eye(dims),\n",
    ")\n",
    "kobs = [\n",
    "    simprob.NoObservation()\n",
    "    if np.isnan(x)\n",
    "    else kalman.MultivariateNormalSubspace(\n",
    "        dist=kalman.MultivariateNormal(\n",
    "            mean=np.array([x]),\n",
    "            covar=np.array([[noise_std**2]]),\n",
    "        ),\n",
    "        # The observation is only on the position component\n",
    "        subspace=np.array([[1, 0]]),\n",
    "    )\n",
    "    for x in observations\n",
    "]\n",
    "steps = [\n",
    "    simprob.Iteration(\n",
    "        transition=kalman.KalmanTransition(\n",
    "            transition_matrix=np.array([[1.0, 1], [0, 1]]),\n",
    "            expected_state_change=kalman.MultivariateNormal(\n",
    "                mean=np.zeros(dims),\n",
    "                covar=np.array([[0, 0], [0, accel_std**2]]),\n",
    "            ),\n",
    "        ),\n",
    "        observation=x,\n",
    "    )\n",
    "    for x in kobs[1:]\n",
    "]\n",
    "\n",
    "kalman_comb = list(simprob.simulate(kobs[0] & init_state, steps))\n",
    "\n",
    "plot_measures()\n",
    "\n",
    "means = np.array([x.mean[0] for x in kalman_comb])\n",
    "stds = np.array([x.covar[0, 0] ** 0.5 for x in kalman_comb])\n",
    "[means_plot] = plt.plot(means, label=\"Path estimation at each time with Kalman\")\n",
    "for p in np.linspace(0.05, 1, 7)[:-1]:\n",
    "    s = scipy.stats.chi2(1).isf(p) ** 0.5\n",
    "    for mult in [s, -s]:\n",
    "        plt.plot(means + mult * stds, color=means_plot.get_color(), alpha=p)\n",
    "plt.ylim(observations.min(), observations.max())\n",
    "_ = plt.legend()"
   ]
  },
  {
   "cell_type": "code",
   "execution_count": null,
   "metadata": {},
   "outputs": [],
   "source": []
  }
 ],
 "metadata": {
  "kernelspec": {
   "display_name": "venv",
   "language": "python",
   "name": "python3"
  },
  "language_info": {
   "codemirror_mode": {
    "name": "ipython",
    "version": 3
   },
   "file_extension": ".py",
   "mimetype": "text/x-python",
   "name": "python",
   "nbconvert_exporter": "python",
   "pygments_lexer": "ipython3",
   "version": "3.13.1"
  }
 },
 "nbformat": 4,
 "nbformat_minor": 2
}
