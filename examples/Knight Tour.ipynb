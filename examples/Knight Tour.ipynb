{
 "cells": [
  {
   "cell_type": "markdown",
   "metadata": {},
   "source": [
    "# Knight's Tour example\n",
    "\n",
    "Example problems with a Knight's Tour on the chess board."
   ]
  },
  {
   "cell_type": "code",
   "execution_count": null,
   "metadata": {},
   "outputs": [],
   "source": [
    "%pip install matplotlib numpy scipy"
   ]
  },
  {
   "cell_type": "code",
   "execution_count": null,
   "metadata": {},
   "outputs": [],
   "source": [
    "import itertools\n",
    "import matplotlib.pyplot as plt\n",
    "import numpy as np\n",
    "import os\n",
    "import random\n",
    "import scipy\n",
    "import sys\n",
    "\n",
    "sys.path.append(os.path.abspath(\"..\"))"
   ]
  },
  {
   "cell_type": "markdown",
   "metadata": {},
   "source": [
    "## Number of options for tour between oppsite corners\n",
    "\n",
    "In 8 steps, how many paths can a knight take between opposite corners?"
   ]
  },
  {
   "cell_type": "code",
   "execution_count": null,
   "metadata": {},
   "outputs": [],
   "source": [
    "import knight_tour\n",
    "import simprob\n",
    "\n",
    "\n",
    "def advance_knight_counts(counts):\n",
    "    return scipy.signal.convolve(counts, knight_tour.knight_moves_kernel, mode=\"same\")\n",
    "\n",
    "\n",
    "start = np.zeros(knight_tour.BOARD_SHAPE, dtype=int)\n",
    "start[0, 0] = 1\n",
    "n_steps = 8\n",
    "for state in simprob.simulate(\n",
    "    start, [simprob.Iteration(transition=advance_knight_counts)] * n_steps\n",
    "):\n",
    "    plt.figure(figsize=(2, 2))\n",
    "    plt.imshow(state)\n",
    "    plt.colorbar()\n",
    "    plt.show()\n",
    "print(f\"Number of paths of {n_steps} steps between opposite corners: {state[-1, -1]}\")"
   ]
  },
  {
   "cell_type": "markdown",
   "metadata": {},
   "source": [
    "## Infer path from partial observations.\n",
    "\n",
    "Given sporadic observations of Knight row, column, diagonal or quadrant at specific times,\n",
    "could we infer where the knight have been?\n",
    "\n",
    "### Randomize path"
   ]
  },
  {
   "cell_type": "code",
   "execution_count": null,
   "metadata": {},
   "outputs": [],
   "source": [
    "path = list(itertools.islice(knight_tour.random_knight_path(), 15))\n",
    "plt.axis(\"equal\")\n",
    "plt.title(\"The knight's tour\")\n",
    "_ = plt.plot(*zip(*path), \".-\")"
   ]
  },
  {
   "cell_type": "markdown",
   "metadata": {},
   "source": [
    "### Randomize observations"
   ]
  },
  {
   "cell_type": "code",
   "execution_count": null,
   "metadata": {},
   "outputs": [],
   "source": [
    "observations = []\n",
    "for x, y in path:\n",
    "    kind = random.choice([\"row\", \"col\", \"diag0\", \"diag1\", \"quadrant\"])\n",
    "    obs = np.zeros(knight_tour.BOARD_SHAPE, dtype=bool)\n",
    "    if kind == \"row\":\n",
    "        obs[:, y] = True\n",
    "    elif kind == \"col\":\n",
    "        obs[x] = True\n",
    "    elif kind == \"diag0\":\n",
    "        for i in range(-min(x, y), 8 - max(x, y)):\n",
    "            obs[x + i, y + i] = True\n",
    "    elif kind == \"diag1\":\n",
    "        for i in range(-min(7 - x, y), 8 - max(7 - x, y)):\n",
    "            obs[x - i, y + i] = True\n",
    "    else:\n",
    "        obs[\n",
    "            slice(4) if x < 4 else slice(4, None), slice(4) if y < 4 else slice(4, None)\n",
    "        ] = True\n",
    "    observations.append(obs)\n",
    "observations = np.asarray(observations)\n",
    "\n",
    "print(\"Partial observations of knight's position over time\")\n",
    "_, ax = plt.subplots(ncols=len(observations))\n",
    "for a, o, (x, y) in zip(ax, observations, path):\n",
    "    o = o.astype(int)\n",
    "    o[x, y] += 1\n",
    "    a.imshow(o)\n",
    "    a.set_xticks([])\n",
    "    a.set_yticks([])"
   ]
  },
  {
   "cell_type": "markdown",
   "metadata": {},
   "source": [
    "### Infer path using simprob"
   ]
  },
  {
   "cell_type": "code",
   "execution_count": null,
   "metadata": {},
   "outputs": [],
   "source": [
    "import simprob.back_sim as bwd\n",
    "\n",
    "\n",
    "class KnightTransition:\n",
    "    def __call__(self, mask: np.ndarray) -> np.ndarray:\n",
    "        return (\n",
    "            scipy.signal.convolve(\n",
    "                mask.astype(int), knight_tour.knight_moves_kernel, mode=\"same\"\n",
    "            )\n",
    "            > 0\n",
    "        )\n",
    "\n",
    "    @property\n",
    "    def inv(self):\n",
    "        return self\n",
    "\n",
    "\n",
    "inferred = np.asarray(\n",
    "    list(\n",
    "        bwd.simulate_fwd_bwd(\n",
    "            observations[0],\n",
    "            [\n",
    "                simprob.Iteration(transition=KnightTransition(), observation=o)\n",
    "                for o in observations[1:]\n",
    "            ],\n",
    "            np.ones(knight_tour.BOARD_SHAPE, dtype=bool),\n",
    "        )\n",
    "    )\n",
    ")\n",
    "\n",
    "print(\"Inference of knight's possible positions from observations\")\n",
    "_, ax = plt.subplots(ncols=len(inferred))\n",
    "for a, i in zip(ax, inferred + observations.astype(int)):\n",
    "    a.imshow(i)\n",
    "    a.set_xticks([])\n",
    "    a.set_yticks([])"
   ]
  },
  {
   "cell_type": "markdown",
   "metadata": {},
   "source": [
    "## Infering the path with probabilities\n",
    "\n",
    "See `Hidden Markov Model.ipynb` for an example"
   ]
  },
  {
   "cell_type": "code",
   "execution_count": null,
   "metadata": {},
   "outputs": [],
   "source": []
  }
 ],
 "metadata": {
  "kernelspec": {
   "display_name": ".venv",
   "language": "python",
   "name": "python3"
  },
  "language_info": {
   "codemirror_mode": {
    "name": "ipython",
    "version": 3
   },
   "file_extension": ".py",
   "mimetype": "text/x-python",
   "name": "python",
   "nbconvert_exporter": "python",
   "pygments_lexer": "ipython3",
   "version": "3.13.1"
  }
 },
 "nbformat": 4,
 "nbformat_minor": 2
}
