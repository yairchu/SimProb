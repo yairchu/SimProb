{
 "cells": [
  {
   "cell_type": "code",
   "execution_count": null,
   "metadata": {},
   "outputs": [],
   "source": [
    "%pip install pykalman"
   ]
  },
  {
   "cell_type": "code",
   "execution_count": null,
   "metadata": {},
   "outputs": [],
   "source": [
    "import os\n",
    "import matplotlib.pyplot as plt\n",
    "import numpy as np\n",
    "import sys\n",
    "\n",
    "sys.path.append(os.path.abspath(\"../..\"))\n",
    "\n",
    "import pykalman\n",
    "import simprob.kalman"
   ]
  },
  {
   "cell_type": "markdown",
   "metadata": {},
   "source": [
    "## Kalman Filter example\n",
    "\n",
    "Part of example from https://github.com/pykalman/pykalman/blob/main/examples/standard/plot_filter.py\n",
    "\n",
    "For clarity, only one dimension is plotted"
   ]
  },
  {
   "cell_type": "code",
   "execution_count": null,
   "metadata": {},
   "outputs": [],
   "source": [
    "random_state = np.random.RandomState(0)\n",
    "transition_matrix = [[1, 0.1], [0, 1]]\n",
    "transition_offset = [-0.1, 0.1]\n",
    "observation_matrix = np.eye(2) + random_state.randn(2, 2) * 0.1\n",
    "observation_offset = [1.0, -1.0]\n",
    "transition_covariance = np.eye(2)\n",
    "observation_covariance = np.eye(2) + random_state.randn(2, 2) * 0.1\n",
    "initial_state_mean = [5, -5]\n",
    "initial_state_covariance = [[1, 0.1], [-0.1, 1]]\n",
    "\n",
    "# sample from model\n",
    "kf = pykalman.KalmanFilter(\n",
    "    transition_matrix,\n",
    "    observation_matrix,\n",
    "    transition_covariance,\n",
    "    observation_covariance,\n",
    "    transition_offset,\n",
    "    observation_offset,\n",
    "    initial_state_mean,\n",
    "    initial_state_covariance,\n",
    "    random_state=random_state,\n",
    ")\n",
    "states, observations = kf.sample(n_timesteps=50, initial_state=initial_state_mean)\n",
    "\n",
    "# estimate state with filtering and smoothing\n",
    "filtered_state_estimates = kf.filter(observations)[0]\n",
    "\n",
    "# draw estimates\n",
    "plt.plot(states[:, 0], label=\"True state\")\n",
    "plt.scatter(np.arange(len(observations)), observations[:, 0], label=\"Observations\")\n",
    "plt.plot(filtered_state_estimates[:, 0], label=\"Kalman (pykalman)\")\n",
    "\n",
    "obs = [\n",
    "    np.linalg.inv(np.array(observation_matrix))\n",
    "    @ simprob.kalman.MultivariateNormal(o, observation_covariance)\n",
    "    - np.array(observation_offset)\n",
    "    for o in observations\n",
    "]\n",
    "iters = [\n",
    "    simprob.Iteration(\n",
    "        simprob.kalman.KalmanTransition(\n",
    "            np.array(transition_matrix),\n",
    "            simprob.kalman.MultivariateNormal(\n",
    "                -np.array(transition_offset), np.array(transition_covariance)\n",
    "            ),\n",
    "        ),\n",
    "        o,\n",
    "    )\n",
    "    for o in obs[1:]\n",
    "]\n",
    "init = obs[0] & simprob.kalman.MultivariateNormal(\n",
    "    np.array(initial_state_mean), np.array(initial_state_covariance)\n",
    ")\n",
    "res = list(simprob.simulate(init, iters))\n",
    "plt.plot([r.mean[0] for r in res], \"--\", label=\"Kalman (simprob)\")\n",
    "\n",
    "_ = plt.legend(loc=\"lower right\")"
   ]
  },
  {
   "cell_type": "code",
   "execution_count": null,
   "metadata": {},
   "outputs": [],
   "source": []
  }
 ],
 "metadata": {
  "kernelspec": {
   "display_name": ".venv",
   "language": "python",
   "name": "python3"
  },
  "language_info": {
   "codemirror_mode": {
    "name": "ipython",
    "version": 3
   },
   "file_extension": ".py",
   "mimetype": "text/x-python",
   "name": "python",
   "nbconvert_exporter": "python",
   "pygments_lexer": "ipython3",
   "version": "3.13.1"
  }
 },
 "nbformat": 4,
 "nbformat_minor": 2
}
